{
 "cells": [
  {
   "cell_type": "code",
   "execution_count": 22,
   "id": "925d4259",
   "metadata": {},
   "outputs": [
    {
     "name": "stdout",
     "output_type": "stream",
     "text": [
      "{\n",
      "  \"content\": \"The 2020 World Series was played at Globe Life Field in Arlington, Texas.\",\n",
      "  \"role\": \"assistant\"\n",
      "}\n"
     ]
    }
   ],
   "source": [
    "import openai\n",
    "\n",
    "openai.api_key = \"{your api key}\"\n",
    "\n",
    "completion = openai.ChatCompletion.create(\n",
    "    model=\"gpt-3.5-turbo\",\n",
    "    messages=[\n",
    "        {\"role\": \"system\", \"content\": \"You are a helpful assistant.\"},\n",
    "        {\"role\": \"user\", \"content\": \"Who won the world series in 2020?\"},\n",
    "        {\"role\": \"assistant\", \"content\": \"The Los Angeles Dodgers won the World Series in 2020.\"},\n",
    "        {\"role\": \"user\", \"content\": \"Where was it played?\"}\n",
    "    ]\n",
    ")\n",
    "\n",
    "print(completion.choices[0].message)"
   ]
  },
  {
   "cell_type": "code",
   "execution_count": null,
   "id": "d9752099",
   "metadata": {},
   "outputs": [],
   "source": [
    "# start server\n",
    "%run message.py"
   ]
  },
  {
   "cell_type": "code",
   "execution_count": 20,
   "id": "237610b9",
   "metadata": {},
   "outputs": [],
   "source": [
    "# def chat_with_gpt(prompt):\n",
    "#         response = openai.Completion.create(\n",
    "#         engine=\"gpt-3.5-turbo\",# 使用高级引擎，但也可以选择其他引擎\n",
    "#         prompt=prompt,\n",
    "#         max_tokens=50,# 最大响应长度\n",
    "#         n=1,# 返回1\n",
    "#         stop=None,# 响应结束标志（如设置为[\"\\n\"]）\n",
    "#         temperature=0.8,# 决定输出随机性的温度参数\n",
    "#         top_p=1,# 对结果进行限制的累积概率（值在0和1之间）\n",
    "#         )\n",
    "#         message = response.choices[0].text.strip()\n",
    "#         return message\n",
    "    \n",
    "# prompt = \"请告诉我著名的建筑物：巴黎圣母院的历史。\"\n",
    "# print(chat_with_gpt(prompt)) "
   ]
  },
  {
   "cell_type": "code",
   "execution_count": 23,
   "id": "32ffdcb4",
   "metadata": {},
   "outputs": [
    {
     "name": "stdout",
     "output_type": "stream",
     "text": [
      "https://oaidalleapiprodscus.blob.core.windows.net/private/org-9Wmrnsj8Rd9zDBMc4KeRDFFt/user-YeG0XeFBG30yaWy45sWaQ5QR/img-ubP5Xsq83YL6mR6eeRXz1fzQ.png?st=2023-05-25T02%3A58%3A56Z&se=2023-05-25T04%3A58%3A56Z&sp=r&sv=2021-08-06&sr=b&rscd=inline&rsct=image/png&skoid=6aaadede-4fb3-4698-a8f6-684d7786b067&sktid=a48cca56-e6da-484e-a814-9c849652bcb3&skt=2023-05-24T23%3A49%3A19Z&ske=2023-05-25T23%3A49%3A19Z&sks=b&skv=2021-08-06&sig=sYP7b4ithjKS2v/efAsQ3g8c5pMTibEazB4LK3H8iZU%3D\n"
     ]
    }
   ],
   "source": [
    "import openai\n",
    "\n",
    "openai.api_key = \"{your api key}\"\n",
    "\n",
    "# completion = openai.ChatCompletion.create(\n",
    "#     model=\"gpt-3.5-turbo\",\n",
    "#     messages=[\n",
    "#         {\"role\": \"system\", \"content\": \"You are a helpful assistant.\"},\n",
    "#         {\"role\": \"user\", \"content\": \"Who won the world series in 2020?\"},\n",
    "#         {\"role\": \"assistant\", \"content\": \"The Los Angeles Dodgers won the World Series in 2020.\"},\n",
    "#         {\"role\": \"user\", \"content\": \"Where was it played?\"}\n",
    "#     ]\n",
    "# )\n",
    "\n",
    "response = openai.Image.create(\n",
    "  prompt=\"a white siamese cat\",\n",
    "  n=1,\n",
    "  size=\"1024x1024\"\n",
    ")\n",
    "image_url = response['data'][0]['url']\n",
    "print(image_url)"
   ]
  },
  {
   "cell_type": "code",
   "execution_count": null,
   "id": "48ce97d9",
   "metadata": {},
   "outputs": [],
   "source": []
  }
 ],
 "metadata": {
  "kernelspec": {
   "display_name": "Python 3 (ipykernel)",
   "language": "python",
   "name": "python3"
  },
  "language_info": {
   "codemirror_mode": {
    "name": "ipython",
    "version": 3
   },
   "file_extension": ".py",
   "mimetype": "text/x-python",
   "name": "python",
   "nbconvert_exporter": "python",
   "pygments_lexer": "ipython3",
   "version": "3.11.3"
  }
 },
 "nbformat": 4,
 "nbformat_minor": 5
}
